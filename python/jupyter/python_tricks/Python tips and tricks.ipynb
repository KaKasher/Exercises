{
 "cells": [
  {
   "cell_type": "markdown",
   "metadata": {},
   "source": [
    "## Ternary conditionals"
   ]
  },
  {
   "cell_type": "code",
   "execution_count": 2,
   "metadata": {},
   "outputs": [
    {
     "name": "stdout",
     "output_type": "stream",
     "text": [
      "0\n"
     ]
    }
   ],
   "source": [
    "condition = False\n",
    "\n",
    "x = 1 if condition else 0\n",
    "\n",
    "print(x)"
   ]
  },
  {
   "cell_type": "markdown",
   "metadata": {},
   "source": [
    "## Making large numbers more readable"
   ]
  },
  {
   "cell_type": "code",
   "execution_count": 3,
   "metadata": {},
   "outputs": [
    {
     "name": "stdout",
     "output_type": "stream",
     "text": [
      "10,100,000,000\n"
     ]
    }
   ],
   "source": [
    "num1 = 10_000_000_000\n",
    "num2 = 100_000_000\n",
    "\n",
    "total = num1 + num2\n",
    "\n",
    "print(f'{total:,}')"
   ]
  },
  {
   "cell_type": "markdown",
   "metadata": {},
   "source": [
    "## Using context managers"
   ]
  },
  {
   "cell_type": "markdown",
   "metadata": {},
   "source": [
    "Context managers are good to use when we open something (like a DB connection) and we need to close it manually.\n",
    "Context managers close them automatically for us."
   ]
  },
  {
   "cell_type": "code",
   "execution_count": 6,
   "metadata": {},
   "outputs": [
    {
     "name": "stdout",
     "output_type": "stream",
     "text": [
      "64\n"
     ]
    }
   ],
   "source": [
    "with open('test.txt', 'r') as f:\n",
    "    file_contents = f.read()\n",
    "    \n",
    "words = file_contents.split(' ')\n",
    "word_count = len(words)\n",
    "print(word_count)"
   ]
  },
  {
   "cell_type": "markdown",
   "metadata": {},
   "source": [
    "## Enumerate function"
   ]
  },
  {
   "cell_type": "markdown",
   "metadata": {},
   "source": [
    "Useful when we want to keep track of index while looping through the list."
   ]
  },
  {
   "cell_type": "code",
   "execution_count": 7,
   "metadata": {},
   "outputs": [
    {
     "name": "stdout",
     "output_type": "stream",
     "text": [
      "1 Kacper\n",
      "2 Grzesiek\n",
      "3 Jasiek\n",
      "4 Oskar\n"
     ]
    }
   ],
   "source": [
    "names = ['Kacper', 'Grzesiek', 'Jasiek', 'Oskar']\n",
    "\n",
    "for index, name in enumerate(names, start=1):\n",
    "    print(index, name)"
   ]
  },
  {
   "cell_type": "code",
   "execution_count": 10,
   "metadata": {},
   "outputs": [
    {
     "name": "stdout",
     "output_type": "stream",
     "text": [
      "Peter Parker is actually Spiderman from Marvel\n",
      "Clark Kent is actually Superman from DC\n",
      "Wade Wilson is actually Deadpool from Marvel\n"
     ]
    }
   ],
   "source": [
    "full_names = ['Peter Parker', 'Clark Kent', 'Wade Wilson']\n",
    "heroes = ['Spiderman', 'Superman', 'Deadpool']\n",
    "universes = ['Marvel', 'DC', 'Marvel']\n",
    "\n",
    "for name, hero, universe in zip(full_names, heroes, universes):\n",
    "    print(f'{name} is actually {hero} from {universe}')"
   ]
  },
  {
   "cell_type": "markdown",
   "metadata": {},
   "source": [
    "## Unpacking"
   ]
  },
  {
   "cell_type": "code",
   "execution_count": 11,
   "metadata": {},
   "outputs": [
    {
     "name": "stdout",
     "output_type": "stream",
     "text": [
      "1\n",
      "1 [2, 3, 4] 5\n",
      "1\n"
     ]
    }
   ],
   "source": [
    "items = (1, 2)\n",
    "a, _ = items\n",
    "print(a)\n",
    "\n",
    "items = (1, 2, 3, 4, 5)\n",
    "a, *b, c = items\n",
    "print(a, b, c)\n",
    "\n",
    "items = (1, 2, 3, 4)\n",
    "a, *_ = items\n",
    "print(a)"
   ]
  },
  {
   "cell_type": "markdown",
   "metadata": {},
   "source": [
    "## Setting a variable's value as a class atrribute"
   ]
  },
  {
   "cell_type": "code",
   "execution_count": 13,
   "metadata": {},
   "outputs": [
    {
     "name": "stdout",
     "output_type": "stream",
     "text": [
      "Kacper\n",
      "Gregorowicz\n"
     ]
    }
   ],
   "source": [
    "class Person():\n",
    "    pass\n",
    "\n",
    "person = Person()\n",
    "\n",
    "person_info = {'first': 'Kacper', 'last': 'Gregorowicz'}\n",
    "\n",
    "for key, value in person_info.items():\n",
    "    setattr(person, key, value)\n",
    "    \n",
    "for key in person_info.keys():\n",
    "    print(getattr(person, key))"
   ]
  },
  {
   "cell_type": "markdown",
   "metadata": {},
   "source": [
    "## Inputting sensitive information"
   ]
  },
  {
   "cell_type": "code",
   "execution_count": 14,
   "metadata": {},
   "outputs": [
    {
     "name": "stdout",
     "output_type": "stream",
     "text": [
      "Username: kaka\n",
      "Password: ········\n"
     ]
    }
   ],
   "source": [
    "from getpass import getpass\n",
    "username = input('Username: ')\n",
    "password = getpass('Password: ')"
   ]
  },
  {
   "cell_type": "code",
   "execution_count": null,
   "metadata": {},
   "outputs": [],
   "source": []
  }
 ],
 "metadata": {
  "kernelspec": {
   "display_name": "Python 3",
   "language": "python",
   "name": "python3"
  },
  "language_info": {
   "codemirror_mode": {
    "name": "ipython",
    "version": 3
   },
   "file_extension": ".py",
   "mimetype": "text/x-python",
   "name": "python",
   "nbconvert_exporter": "python",
   "pygments_lexer": "ipython3",
   "version": "3.8.2"
  }
 },
 "nbformat": 4,
 "nbformat_minor": 4
}
